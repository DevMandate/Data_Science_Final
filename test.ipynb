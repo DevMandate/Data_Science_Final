{
 "cells": [
  {
   "cell_type": "code",
   "execution_count": 12,
   "metadata": {},
   "outputs": [
    {
     "name": "stdout",
     "output_type": "stream",
     "text": [
      "        Review\n",
      "Worst      Dog\n",
      "Good       Cat\n",
      "Better  Donkey\n",
      "Best       Hen\n"
     ]
    }
   ],
   "source": [
    "import pandas as pd \n",
    "\n",
    "myList = ['Dog', 'Cat', 'Donkey', 'Hen']\n",
    "\n",
    "\n",
    "df = pd.DataFrame(myList, columns=['Review'], index=['Worst', 'Good', 'Better', 'Best'])\n",
    "\n",
    "print(df)"
   ]
  },
  {
   "cell_type": "code",
   "execution_count": 6,
   "metadata": {},
   "outputs": [
    {
     "name": "stdout",
     "output_type": "stream",
     "text": [
      "(['Alex', 10], ['Joseph', 13], ['Stephen', 12])\n",
      "           Name  Age\n",
      "Rank 1     Alex   10\n",
      "Rank 2   Joseph   13\n",
      "Rank 3  Stephen   12\n"
     ]
    }
   ],
   "source": [
    "data = ['Alex', 10], ['Joseph' , 13], ['Stephen' , 12]\n",
    "print(data)\n",
    "\n",
    "df = pd.DataFrame(data, columns=['Name' , 'Age'], index=['Rank 1', 'Rank 2', 'Rank 3'])\n",
    "print(df)"
   ]
  },
  {
   "cell_type": "code",
   "execution_count": 17,
   "metadata": {},
   "outputs": [
    {
     "name": "stdout",
     "output_type": "stream",
     "text": [
      "{'Joseph': 25487655368, 'John': 254987799809, 'Jane': 254475983530}\n",
      "        Joseph          John          Jane\n",
      "1  25487655368  254987799809  254475983530\n"
     ]
    }
   ],
   "source": [
    "phonebook = {\n",
    "    'Joseph' : 25487655368,\n",
    "    'John' : 254987799809,\n",
    "    'Jane' : 254475983530\n",
    "}\n",
    "\n",
    "print(phonebook)\n",
    "\n",
    "df = pd.DataFrame(phonebook, index=[1])\n",
    "print(df)\n"
   ]
  }
 ],
 "metadata": {
  "kernelspec": {
   "display_name": "Python 3",
   "language": "python",
   "name": "python3"
  },
  "language_info": {
   "codemirror_mode": {
    "name": "ipython",
    "version": 3
   },
   "file_extension": ".py",
   "mimetype": "text/x-python",
   "name": "python",
   "nbconvert_exporter": "python",
   "pygments_lexer": "ipython3",
   "version": "3.12.4"
  }
 },
 "nbformat": 4,
 "nbformat_minor": 2
}
